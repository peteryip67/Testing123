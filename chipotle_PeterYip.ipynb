{
 "cells": [
  {
   "cell_type": "markdown",
   "metadata": {},
   "source": [
    "<img src=\"http://imgur.com/1ZcRyrc.png\" style=\"float: left; margin: 20px; height: 55px\">\n",
    "\n",
    "# Project 2: Analyzing Chipotle Data\n",
    "\n",
    "_Author: Joseph Nelson (DC)_\n",
    "\n",
    "---"
   ]
  },
  {
   "cell_type": "markdown",
   "metadata": {},
   "source": [
    "For Project 2, you will complete a series of exercises exploring [order data from Chipotle](https://github.com/TheUpshot/chipotle), compliments of _The New York Times'_ \"The Upshot.\"\n",
    "\n",
    "For these exercises, you will conduct basic exploratory data analysis (Pandas not required) to understand the essentials of Chipotle's order data: how many orders are being made, the average price per order, how many different ingredients are used, etc. These allow you to practice business analysis skills while also becoming comfortable with Python."
   ]
  },
  {
   "cell_type": "markdown",
   "metadata": {},
   "source": [
    "---\n",
    "\n",
    "## Basic Level"
   ]
  },
  {
   "cell_type": "markdown",
   "metadata": {},
   "source": [
    "### Part 1: Read in the file with `csv.reader()` and store it in an object called `file_nested_list`.\n",
    "\n",
    "Hint: This is a TSV (tab-separated value) file, and `csv.reader()` needs to be told [how to handle it](https://docs.python.org/2/library/csv.html)."
   ]
  },
  {
   "cell_type": "code",
   "execution_count": 2,
   "metadata": {},
   "outputs": [],
   "source": [
    "import csv\n",
    "from math import fsum\n",
    "from collections import namedtuple   # Convenient to store the data rows\n",
    "y_list =[]\n",
    "DATA_FILE = './data/chipotle.tsv'"
   ]
  },
  {
   "cell_type": "code",
   "execution_count": 3,
   "metadata": {
    "scrolled": true
   },
   "outputs": [],
   "source": [
    "Co = namedtuple('Co', 'order_id, quantity,  item_name, choice_description,item_price')\n",
    "\n",
    "file_nested_list = csv.reader(open(DATA_FILE, 'r'), delimiter='\\t')\n"
   ]
  },
  {
   "cell_type": "markdown",
   "metadata": {},
   "source": [
    "### Part 2: Separate `file_nested_list` into the `header` and the `data`.\n"
   ]
  },
  {
   "cell_type": "code",
   "execution_count": 4,
   "metadata": {
    "scrolled": true
   },
   "outputs": [
    {
     "name": "stdout",
     "output_type": "stream",
     "text": [
      "['order_id', 'quantity', 'item_name', 'choice_description', 'item_price']\n"
     ]
    }
   ],
   "source": [
    "header = next(file_nested_list)\n",
    "print (header)"
   ]
  },
  {
   "cell_type": "code",
   "execution_count": 5,
   "metadata": {
    "scrolled": true
   },
   "outputs": [],
   "source": [
    "for  X,emp in enumerate(map(Co._make, file_nested_list)):\n",
    "    Y = str(X)\n",
    "    y_list.append(emp)"
   ]
  },
  {
   "cell_type": "markdown",
   "metadata": {},
   "source": [
    "---\n",
    "\n",
    "## Intermediate Level"
   ]
  },
  {
   "cell_type": "markdown",
   "metadata": {},
   "source": [
    "### Part 3: Calculate the average price of an order.\n",
    "\n",
    "Hint: Examine the data to see if the `quantity` column is relevant to this calculation.\n",
    "\n",
    "Hint: Think carefully about the simplest way to do this!"
   ]
  },
  {
   "cell_type": "code",
   "execution_count": 27,
   "metadata": {},
   "outputs": [
    {
     "name": "stdout",
     "output_type": "stream",
     "text": [
      "how many order_id =  1834\n",
      "Total number of items to process :  4622\n",
      "Co(order_id='109', quantity='1', item_name='Canned Soda', choice_description='[Diet Dr. Pepper]', item_price='$1.09 ')\n",
      "Co(order_id='76', quantity='2', item_name='Canned Soda', choice_description='[Diet Dr. Pepper]', item_price='$2.18 ')\n",
      "Quantity is not relevant to the calculation\n"
     ]
    }
   ],
   "source": [
    "print ('how many order_id = ', y_list[-1].order_id)\n",
    "print ('Total number of items to process : ' , len(y_list))\n",
    "print (y_list[251])\n",
    "print (y_list[171])\n",
    "print ('Quantity is not relevant to the calculation')\n"
   ]
  },
  {
   "cell_type": "code",
   "execution_count": 28,
   "metadata": {
    "scrolled": false
   },
   "outputs": [
    {
     "name": "stdout",
     "output_type": "stream",
     "text": [
      "Average price of the order is : S 18.81\n"
     ]
    }
   ],
   "source": [
    "from math import fsum\n",
    "\n",
    "sum_list=[]\n",
    "z = 0 \n",
    "sum = 0.0\n",
    "total_orderid = int(y_list[-1].order_id)\n",
    "for y in range(len(y_list)):  \n",
    "    if y_list[y].order_id != y_list[z].order_id:\n",
    "\n",
    "        sum_list.append(sum)\n",
    "        sum =0.0\n",
    "\n",
    "        z = y \n",
    "        \n",
    "    sum += float(y_list[y].item_price[1:])\n",
    "\n",
    "sum_list.append(sum)\n",
    "print ('Average price of the order is : S','{0:.2f}'.format(fsum(sum_list)/float((y_list[-1].order_id))))"
   ]
  },
  {
   "cell_type": "markdown",
   "metadata": {},
   "source": [
    "### Part 4: Create a list (or set) named `unique_sodas` containing all of unique sodas and soft drinks that Chipotle sells.\n",
    "\n",
    "Note: Just look for `'Canned Soda'` and `'Canned Soft Drink'`, and ignore other drinks like `'Izze'`."
   ]
  },
  {
   "cell_type": "code",
   "execution_count": 29,
   "metadata": {},
   "outputs": [],
   "source": [
    "import re\n",
    "m = re.compile(r'\\bCanned\\b')\n"
   ]
  },
  {
   "cell_type": "code",
   "execution_count": 30,
   "metadata": {},
   "outputs": [
    {
     "name": "stdout",
     "output_type": "stream",
     "text": [
      "{'[Diet Dr. Pepper]', '[Mountain Dew]', '[Dr. Pepper]', '[Lemonade]', '[Sprite]', '[Diet Coke]', '[Coke]', '[Coca Cola]', '[Nestea]'}\n"
     ]
    }
   ],
   "source": [
    "Canned_list=[]\n",
    "for y in range(len(y_list)):\n",
    "    result = m.search(y_list[y].item_name)\n",
    "    if result:\n",
    "        Canned_list.append(y_list[y].choice_description)\n",
    "        #Canned_list = set(Canned_list)\n",
    "print (set(Canned_list))\n",
    "\n",
    "        \n",
    "    \n",
    "    "
   ]
  },
  {
   "cell_type": "markdown",
   "metadata": {},
   "source": [
    "---\n",
    "\n",
    "## Advanced Level\n"
   ]
  },
  {
   "cell_type": "markdown",
   "metadata": {},
   "source": [
    "### Part 5: Calculate the average number of toppings per burrito.\n",
    "\n",
    "Note: Let's ignore the `quantity` column to simplify this task.\n",
    "\n",
    "Hint: Think carefully about the easiest way to count the number of toppings!\n"
   ]
  },
  {
   "cell_type": "code",
   "execution_count": 22,
   "metadata": {
    "scrolled": true
   },
   "outputs": [
    {
     "name": "stdout",
     "output_type": "stream",
     "text": [
      "Types of Burrito are as follows : \n",
      "  {'Steak Burrito', 'Veggie Burrito', 'Chicken Burrito', 'Burrito', 'Barbacoa Burrito', 'Carnitas Burrito'}\n",
      "\n",
      "\n",
      "Burrito Toppings are as follows : \n",
      " {'Tomatillo Green Chili Salsa', ' Fajita Vegetables', 'Rice', ' Roasted Chili Corn Salsa (Medium)', ' Cheese', 'Roasted Chili Corn (Medium)', ' Cilantro-Lime Rice', 'Tomatillo-Red Chili Salsa (Hot)', 'Adobo-Marinated and Grilled Chicken', ' Rice', 'Fresh Tomato Salsa (Mild)', 'Tomatillo Red Chili (Hot)', 'Tomatillo Green Chili (Medium)', 'Black Beans', ' Fajita Veggies', 'Tomatillo-Green Chili Salsa (Medium)', 'Fresh Tomato (Mild)', 'Roasted Chili Corn Salsa (Medium)', ' Adobo-Marinated and Grilled Steak', ' Black Beans', 'Fresh Tomato Salsa', 'Braised Barbacoa', ' Lettuce', ' Guacamole', 'White Rice', ' Tomatillo-Green Chili Salsa (Medium)', 'Brown Rice', ' Vegetarian Black Beans', 'Roasted Chili Corn Salsa', ' Pinto Beans', 'Tomatillo Red Chili Salsa', ' Sour Cream', ' Fresh Tomato Salsa (Mild)', ' Tomatillo-Red Chili Salsa (Hot)', 'Lettuce', ' Salsa'}\n",
      "\n",
      "\n",
      " average number of toppings per burrito =  6.0\n"
     ]
    }
   ],
   "source": [
    "import re\n",
    "m = re.compile(r'\\bBurrito\\b')\n",
    "Burrito_topping_list=[]\n",
    "Burrito_name_list=[]\n",
    "burrito_set=[]\n",
    "Burrito_toppings = []\n",
    "Burrito_toppings_set=[]\n",
    "for y in range(len(y_list)):\n",
    "    result = m.search(y_list[y].item_name)\n",
    "    if result:\n",
    "        Burrito_name_list.append(y_list[y].item_name)\n",
    "        Burrito_topping_list.append(y_list[y].choice_description)\n",
    "       \n",
    "\n",
    "burrito_set = set(Burrito_name_list)\n",
    "for item in Burrito_topping_list:\n",
    "    \n",
    "    str1 = ''.join(str(e) for e in item )\n",
    "    str1 = str1.replace(\"[\",\"\")\n",
    "    str1 = str1.replace(\"]\",\"\")\n",
    "    str1 = str1.strip()\n",
    "   \n",
    "    for a in str1.split(\",\"):        \n",
    "        Burrito_toppings.append(a)\n",
    "\n",
    "Burrito_toppings_set = set (Burrito_toppings)\n",
    "\n",
    "print ('Types of Burrito are as follows : \\n ', burrito_set)\n",
    "print ('\\n')\n",
    "print ('Burrito Toppings are as follows : \\n' , Burrito_toppings_set)\n",
    "\n",
    "print ('\\n')\n",
    "topping_per_burrito =float(len(Burrito_toppings_set))/float(len(burrito_set))\n",
    "print (' average number of toppings per burrito = ',topping_per_burrito )\n",
    "                                        \n"
   ]
  },
  {
   "cell_type": "code",
   "execution_count": null,
   "metadata": {},
   "outputs": [],
   "source": []
  },
  {
   "cell_type": "code",
   "execution_count": null,
   "metadata": {},
   "outputs": [],
   "source": []
  },
  {
   "cell_type": "code",
   "execution_count": null,
   "metadata": {},
   "outputs": [],
   "source": []
  },
  {
   "cell_type": "markdown",
   "metadata": {},
   "source": [
    "### Part 6: Create a dictionary. Let the keys represent chip orders and the values represent the total number of orders.\n",
    "\n",
    "Expected output: `{'Chips and Roasted Chili-Corn Salsa': 18, ... }`\n",
    "\n",
    "Note: Please take the `quantity` column into account!\n",
    "\n",
    "Optional: Learn how to use `.defaultdict()` to simplify your code."
   ]
  },
  {
   "cell_type": "code",
   "execution_count": 23,
   "metadata": {},
   "outputs": [],
   "source": [
    "from collections import defaultdict"
   ]
  },
  {
   "cell_type": "code",
   "execution_count": 24,
   "metadata": {},
   "outputs": [],
   "source": [
    "m = re.compile(r'\\bChips\\b')"
   ]
  },
  {
   "cell_type": "code",
   "execution_count": 25,
   "metadata": {},
   "outputs": [
    {
     "name": "stdout",
     "output_type": "stream",
     "text": [
      "defaultdict(<class 'int'>, {'Chips and Fresh Tomato Salsa': 110, 'Chips and Tomatillo-Green Chili Salsa': 31, 'Side of Chips': 101, 'Chips and Guacamole': 479, 'Chips and Tomatillo Green Chili Salsa': 43, 'Chips': 211, 'Chips and Tomatillo Red Chili Salsa': 48, 'Chips and Roasted Chili-Corn Salsa': 18, 'Chips and Roasted Chili Corn Salsa': 22, 'Chips and Tomatillo-Red Chili Salsa': 20, 'Chips and Mild Fresh Tomato Salsa': 1})\n"
     ]
    }
   ],
   "source": [
    "Chip_count =  defaultdict(int) \n",
    "for y in range(len(y_list)):\n",
    "    result = m.search(y_list[y].item_name)\n",
    "    if result:\n",
    "        Chip_count[y_list[y].item_name] += 1\n",
    "        \n",
    "print (Chip_count)\n"
   ]
  },
  {
   "cell_type": "code",
   "execution_count": null,
   "metadata": {},
   "outputs": [],
   "source": []
  },
  {
   "cell_type": "code",
   "execution_count": null,
   "metadata": {},
   "outputs": [],
   "source": []
  },
  {
   "cell_type": "markdown",
   "metadata": {},
   "source": [
    "---\n",
    "\n",
    "## Bonus: Craft a problem statement about this data that interests you, and then answer it!\n"
   ]
  },
  {
   "cell_type": "markdown",
   "metadata": {},
   "source": [
    "### There are people who refrain from eating chili due to personal preference . Propose to check out non-Chili food product."
   ]
  },
  {
   "cell_type": "code",
   "execution_count": 14,
   "metadata": {
    "scrolled": true
   },
   "outputs": [],
   "source": [
    "\n",
    "m = re.compile('Chili')\n",
    "Chili_list =[]\n",
    "Chili_set =[]\n",
    "Complete_set =[]\n",
    "Complete_list=[]\n",
    "No_Chili_set=[]"
   ]
  },
  {
   "cell_type": "code",
   "execution_count": 15,
   "metadata": {
    "scrolled": false
   },
   "outputs": [
    {
     "name": "stdout",
     "output_type": "stream",
     "text": [
      "These are the non-Chili food and drinks : \n",
      "\n",
      " {'Veggie Crispy Tacos', 'Canned Soda', 'Burrito', 'Side of Chips', 'Crispy Tacos', '6 Pack Soft Drink', 'Salad', 'Chips and Guacamole', 'Nantucket Nectar', 'Bottled Water', 'Chips and Mild Fresh Tomato Salsa', 'Bowl', 'Izze', 'Chips', 'Canned Soft Drink', 'Chips and Fresh Tomato Salsa'}\n"
     ]
    }
   ],
   "source": [
    "for y in range(len(y_list)):\n",
    "    if y_list[y].choice_description !='NULL' :       \n",
    "        result = m.search(y_list[y].choice_description)\n",
    "        #print (\" stage 1 \", result ,y_list[y].choice_description)\n",
    "    else:\n",
    "        # if choice_description is a null , check the item_name for Chili label as well\n",
    "        result = m.search(y_list[y].item_name)\n",
    "        #print (\"stage 2\", result, y_list[y].item_name)\n",
    "    \n",
    "    Complete_list.append(y_list[y].item_name)\n",
    "    if result:\n",
    "        Chili_list.append(y_list[y].item_name)\n",
    "\n",
    "Chili_set = set(Chili_list)\n",
    "No_Chili_set = set(Chili_list)^set(Complete_list)\n",
    "print ('These are the non-Chili food and drinks : \\n\\n' ,No_Chili_set)\n"
   ]
  },
  {
   "cell_type": "code",
   "execution_count": null,
   "metadata": {},
   "outputs": [],
   "source": []
  },
  {
   "cell_type": "code",
   "execution_count": null,
   "metadata": {},
   "outputs": [],
   "source": []
  }
 ],
 "metadata": {
  "anaconda-cloud": {},
  "kernelspec": {
   "display_name": "Python 3",
   "language": "python",
   "name": "python3"
  },
  "language_info": {
   "codemirror_mode": {
    "name": "ipython",
    "version": 3
   },
   "file_extension": ".py",
   "mimetype": "text/x-python",
   "name": "python",
   "nbconvert_exporter": "python",
   "pygments_lexer": "ipython3",
   "version": "3.6.4"
  }
 },
 "nbformat": 4,
 "nbformat_minor": 2
}
