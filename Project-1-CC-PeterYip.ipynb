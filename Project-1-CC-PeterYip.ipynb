{
 "cells": [
  {
   "cell_type": "markdown",
   "metadata": {},
   "source": [
    "<img src=\"http://imgur.com/1ZcRyrc.png\" style=\"float: left; margin: 20px; height: 55px\">\n",
    "\n",
    "# Project 1: Python Coding Exercises\n",
    "\n",
    "_Authors: Joseph Nelson (DC) _\n",
    "\n",
    "---"
   ]
  },
  {
   "cell_type": "markdown",
   "metadata": {},
   "source": [
    "The following code challenges are drawn from common exercises used in technical interviews.\n",
    "\n",
    "Please note that there may be several ways to approach each challenge. If you get stuck, try mapping out your approach in pseudocode first. Finally, while solutions to problems like these may be found online, remember that if you copy/paste code that you can't explain, you'll be missing out on the point of the project. The only way to truly learn a new skill is through practice, trial, and error - we can only help you improve by understanding where you are having trouble."
   ]
  },
  {
   "cell_type": "markdown",
   "metadata": {},
   "source": [
    "### Challenge 1: Largest Palindrome\n",
    "A palindromic number reads the same both ways. For example, 1234321 is a palindrome. The largest palindrome made from the product of two two-digit numbers is 9009 = 91 × 99. Find the largest palindrome made from the product of two three-digit numbers. Afterward, write a brief explanation walking through your code's logic in markdown."
   ]
  },
  {
   "cell_type": "code",
   "execution_count": 4,
   "metadata": {},
   "outputs": [
    {
     "name": "stdout",
     "output_type": "stream",
     "text": [
      "906609  is the max palidrome product of 993   and  913\n"
     ]
    }
   ],
   "source": [
    "# Find the largest palidrome from product of 2 three digit numbers\n",
    "palidrome_list=[]\n",
    "i_list =[]\n",
    "j_list=[]\n",
    "def Palidrome_check(palidrome_num):      # function to check if it is a palidrome\n",
    "        y = len(palidrome_num)\n",
    "        y2 =int( y/2)\n",
    "        check = 0                        # initialise check , check=1 for palidrome , 0 for non-palidrome\n",
    "        count = 0                        # initialise count , count the number of variable match\n",
    "        for i in range(y2):              # split the palidrome into equal half\n",
    "                if y > 1 :               # check if the palidrome  is single digit  number   \n",
    "                        if  palidrome_num[i] == palidrome_num[y-1-i] :      #compare first half with the 2nd half for character match\n",
    "                                count += 1                                  # increment count for character match\n",
    "        if count==y2 :                   # is all characters on the first half match up with the 2nd half ?\n",
    "                check = 1                # there is a match , set check =1 for this palidrome \n",
    "        else:\n",
    "                check =0                 # there is not a palidrome\n",
    "\n",
    "        return (check)\n",
    "\n",
    "\n",
    "for i in range(999,99,-1):               # start as 999 , end before but excluding 99 , decrement by 1\n",
    "        for j in range (999,99,-1):      # next set of for loop for j with the same condition as i\n",
    "                num =str( i * j)         # create the number for palidrome check\n",
    "                if Palidrome_check(num):        # check for palidrome\n",
    "                        palidrome_list.append(num)      # if yes, append the num to the palidrome list\n",
    "                        i_list.append(str(i))           # append i value for tracibility\n",
    "                        j_list.append(str(j))           # append j value for tracibility\n",
    "\n",
    "#print (palidrome_list)\n",
    "palidrome_list = list(map(int,palidrome_list))       # change the list format from string to integer  \n",
    "max_index = palidrome_list.index(max(palidrome_list))   # get the index for the max palidrome\n",
    "print (max(palidrome_list),' is the max palidrome product of' , i_list[max_index] ,'  and ', j_list[max_index])\n",
    "\n",
    "# test time can be shortening by reducing the range from 99 to 900 to get the maximum palidrome."
   ]
  },
  {
   "cell_type": "markdown",
   "metadata": {},
   "source": [
    "\n",
    "### Challenge 2: Summation of Primes\n",
    "The sum of the primes below 10 is 2 + 3 + 5 + 7 = 17. Find the sum of all the primes below 2,000. Afterward, write a brief explanation walking through your code's logic in markdown."
   ]
  },
  {
   "cell_type": "code",
   "execution_count": 3,
   "metadata": {},
   "outputs": [
    {
     "name": "stdout",
     "output_type": "stream",
     "text": [
      "The list of prime numbers are as follows : \n",
      " [2, 3, 5, 7, 11, 13, 17, 19, 23, 29, 31, 37, 41, 43, 47, 53, 59, 61, 67, 71, 73, 79, 83, 89, 97, 101, 103, 107, 109, 113, 127, 131, 137, 139, 149, 151, 157, 163, 167, 173, 179, 181, 191, 193, 197, 199, 211, 223, 227, 229, 233, 239, 241, 251, 257, 263, 269, 271, 277, 281, 283, 293, 307, 311, 313, 317, 331, 337, 347, 349, 353, 359, 367, 373, 379, 383, 389, 397, 401, 409, 419, 421, 431, 433, 439, 443, 449, 457, 461, 463, 467, 479, 487, 491, 499, 503, 509, 521, 523, 541, 547, 557, 563, 569, 571, 577, 587, 593, 599, 601, 607, 613, 617, 619, 631, 641, 643, 647, 653, 659, 661, 673, 677, 683, 691, 701, 709, 719, 727, 733, 739, 743, 751, 757, 761, 769, 773, 787, 797, 809, 811, 821, 823, 827, 829, 839, 853, 857, 859, 863, 877, 881, 883, 887, 907, 911, 919, 929, 937, 941, 947, 953, 967, 971, 977, 983, 991, 997, 1009, 1013, 1019, 1021, 1031, 1033, 1039, 1049, 1051, 1061, 1063, 1069, 1087, 1091, 1093, 1097, 1103, 1109, 1117, 1123, 1129, 1151, 1153, 1163, 1171, 1181, 1187, 1193, 1201, 1213, 1217, 1223, 1229, 1231, 1237, 1249, 1259, 1277, 1279, 1283, 1289, 1291, 1297, 1301, 1303, 1307, 1319, 1321, 1327, 1361, 1367, 1373, 1381, 1399, 1409, 1423, 1427, 1429, 1433, 1439, 1447, 1451, 1453, 1459, 1471, 1481, 1483, 1487, 1489, 1493, 1499, 1511, 1523, 1531, 1543, 1549, 1553, 1559, 1567, 1571, 1579, 1583, 1597, 1601, 1607, 1609, 1613, 1619, 1621, 1627, 1637, 1657, 1663, 1667, 1669, 1693, 1697, 1699, 1709, 1721, 1723, 1733, 1741, 1747, 1753, 1759, 1777, 1783, 1787, 1789, 1801, 1811, 1823, 1831, 1847, 1861, 1867, 1871, 1873, 1877, 1879, 1889, 1901, 1907, 1913, 1931, 1933, 1949, 1951, 1973, 1979, 1987, 1993, 1997, 1999] \n",
      "\n",
      "The sum of prime numbers for  2000  is  277050\n"
     ]
    }
   ],
   "source": [
    "from math import sqrt\n",
    "primes =[]\n",
    "#x = input(\"pls enter a number \")\n",
    "#print (x)\n",
    "#x1 = int(x)\n",
    "x1 = 2000\n",
    "for z in range(2,x1+1):              # start the search from 2 , end at x1=1000 , increment by 1\n",
    "        prime_check = 1                    # initialise prime_check =1 for presence of prime number \n",
    "        for y in range(1,int(sqrt(z))):  # start as 1, stop before square root  (max common factor)\n",
    "                if z%(y+1)==0 :          # check the modulo if the number is a multiple of y+1\n",
    "                        prime_check = 0        # rule out prime number by setting prime_check=0\n",
    "                        break                  # break the for loop immediately as this number is not a prime numner\n",
    "        if prime_check :                  # is it prime number ?\n",
    "                primes.append(z)        # append to prime list if it is a prime number.\n",
    "\n",
    "print ('The list of prime numbers are as follows : \\n', primes,'\\n')  # print out all prime numbers \n",
    "print ('The sum of prime numbers for ',x1, ' is ', sum(primes))    # print out the sum of prime numbers "
   ]
  },
  {
   "cell_type": "markdown",
   "metadata": {},
   "source": [
    "### Challenge 3: Multiples of 3 and 5\n",
    "If we list all of the natural numbers below 10 that are multiples of 3 or 5, we get 3, 5, 6, and 9. The sum of these multiples is 23. Find the sum of all the multiples of 3 and 5 below 1,000. Afterward, write a brief explanation walking through your code's logic in markdown."
   ]
  },
  {
   "cell_type": "code",
   "execution_count": 11,
   "metadata": {},
   "outputs": [
    {
     "name": "stdout",
     "output_type": "stream",
     "text": [
      "This is a list of multiples of 3's and 5's  :  \n",
      " {3, 5, 6, 9, 10, 12, 15, 18, 20, 21, 24, 25, 27, 30, 33, 35, 36, 39, 40, 42, 45, 48, 50, 51, 54, 55, 57, 60, 63, 65, 66, 69, 70, 72, 75, 78, 80, 81, 84, 85, 87, 90, 93, 95, 96, 99, 100, 102, 105, 108, 110, 111, 114, 115, 117, 120, 123, 125, 126, 129, 130, 132, 135, 138, 140, 141, 144, 145, 147, 150, 153, 155, 156, 159, 160, 162, 165, 168, 170, 171, 174, 175, 177, 180, 183, 185, 186, 189, 190, 192, 195, 198, 200, 201, 204, 205, 207, 210, 213, 215, 216, 219, 220, 222, 225, 228, 230, 231, 234, 235, 237, 240, 243, 245, 246, 249, 250, 252, 255, 258, 260, 261, 264, 265, 267, 270, 273, 275, 276, 279, 280, 282, 285, 288, 290, 291, 294, 295, 297, 300, 303, 305, 306, 309, 310, 312, 315, 318, 320, 321, 324, 325, 327, 330, 333, 335, 336, 339, 340, 342, 345, 348, 350, 351, 354, 355, 357, 360, 363, 365, 366, 369, 370, 372, 375, 378, 380, 381, 384, 385, 387, 390, 393, 395, 396, 399, 400, 402, 405, 408, 410, 411, 414, 415, 417, 420, 423, 425, 426, 429, 430, 432, 435, 438, 440, 441, 444, 445, 447, 450, 453, 455, 456, 459, 460, 462, 465, 468, 470, 471, 474, 475, 477, 480, 483, 485, 486, 489, 490, 492, 495, 498, 500, 501, 504, 505, 507, 510, 513, 515, 516, 519, 520, 522, 525, 528, 530, 531, 534, 535, 537, 540, 543, 545, 546, 549, 550, 552, 555, 558, 560, 561, 564, 565, 567, 570, 573, 575, 576, 579, 580, 582, 585, 588, 590, 591, 594, 595, 597, 600, 603, 605, 606, 609, 610, 612, 615, 618, 620, 621, 624, 625, 627, 630, 633, 635, 636, 639, 640, 642, 645, 648, 650, 651, 654, 655, 657, 660, 663, 665, 666, 669, 670, 672, 675, 678, 680, 681, 684, 685, 687, 690, 693, 695, 696, 699, 700, 702, 705, 708, 710, 711, 714, 715, 717, 720, 723, 725, 726, 729, 730, 732, 735, 738, 740, 741, 744, 745, 747, 750, 753, 755, 756, 759, 760, 762, 765, 768, 770, 771, 774, 775, 777, 780, 783, 785, 786, 789, 790, 792, 795, 798, 800, 801, 804, 805, 807, 810, 813, 815, 816, 819, 820, 822, 825, 828, 830, 831, 834, 835, 837, 840, 843, 845, 846, 849, 850, 852, 855, 858, 860, 861, 864, 865, 867, 870, 873, 875, 876, 879, 880, 882, 885, 888, 890, 891, 894, 895, 897, 900, 903, 905, 906, 909, 910, 912, 915, 918, 920, 921, 924, 925, 927, 930, 933, 935, 936, 939, 940, 942, 945, 948, 950, 951, 954, 955, 957, 960, 963, 965, 966, 969, 970, 972, 975, 978, 980, 981, 984, 985, 987, 990, 993, 995, 996, 999} \n",
      "\n",
      "The sum of multiples of 3's and 5's is  233168\n"
     ]
    }
   ],
   "source": [
    "from math import sqrt\n",
    "multiples_of_3 =[]\n",
    "multiples_of_5 =[]\n",
    "#x = input(\"pls enter a number \")\n",
    "#x1 = int(x)\n",
    "x1 =1000\n",
    "for z in range(3,x1):               # start at 3 , end but excluding 1000 \n",
    "                if z%3==0 :         # check if it is multiple of 3 \n",
    "                        multiples_of_3.append(z)     # if it is multiple of 3 , keep it to multiples_of_3 list\n",
    "                if z%5==0 :         # check if it is multiple of 5 \n",
    "                        multiples_of_5.append(z)     # if it is multiple of 5 , keep it to multiples_of_5 list\n",
    "\n",
    "multiples = set(multiples_of_3)|set( multiples_of_5) # remove duplicates and create a set of unique set of multiples of 3 and 5\n",
    "\n",
    "print (\"This is a list of multiples of 3's and 5's  : \" , '\\n',multiples,'\\n')\n",
    "\n",
    "print (\"The sum of multiples of 3's and 5's is \", sum( multiples))  # output sum of multiples "
   ]
  },
  {
   "cell_type": "markdown",
   "metadata": {},
   "source": [
    "### Challenge 4: String Compressor\n",
    "Implement a method to perform basic string compression using the counts of repeated characters. (This is called run-length encoding.) For example, the string \"aabcccccaaa\" would become a2b1c5a3. If the “compressed” string would not become smaller than the original string, your method should return the original string. You can assume the string has only uppercase and lowercase letters (a–z). Specify whether your solution is case sensitive or case insensitive and what you would need to change to make it the other. Afterward, write a brief explanation walking through your code's logic in markdown."
   ]
  },
  {
   "cell_type": "code",
   "execution_count": 45,
   "metadata": {},
   "outputs": [
    {
     "name": "stdout",
     "output_type": "stream",
     "text": [
      "aabcccccaaa encoded as  a2b1c5a3\n",
      "AbcccDDDDDDccaaaaaaaxfffffgg encoded as  A1b1c3D6c2a7x1f5g2\n",
      "Aaabbbcddddddefgh encoded as  Aaabbbcddddddefgh\n",
      "\n",
      " The routine is case insensitive by changing the input4 to input4.lower() \n",
      "\n",
      "Aaabbbcddddddefgh encoded as  a3b3c1d6e1f1g1h1\n"
     ]
    }
   ],
   "source": [
    "###\n",
    "# This routine handles case sensitive string \n",
    "###\n",
    "\n",
    "def Run_length_encoder(raw_str):\n",
    "    ref_char =\"\"      # initial ref_char as empty string \n",
    "    char_count = 0         # initialise char count\n",
    "    string_enc = []        # initialise the string encoder as empty string\n",
    "    for char  in raw_str:   # get the character from the raw_string for encoding \n",
    "            if ref_char != char:   # is the character  not the same as the previous character ( ref_char )  \n",
    "                    if ref_char :  # is it a null string ?  \n",
    "                            string_enc += str(char_count)   # add the  previous character count to the encoder string as there is a new character\n",
    "                            char_count = 0     # reset the char count to zero as this is a new character              \n",
    "                    char_count += 1    # increase the char count by 1 \n",
    "                    ref_char = char    # keep the present character as the reference for the next comparision. \n",
    "                    string_enc += (char)  #start of the new character\n",
    "            else:\n",
    "                    if ref_char == char:  # if there is a match , the character appears cosnsecutively \n",
    "                            char_count += 1  # inscrease the char count if the character appear consecutively.\n",
    "\n",
    "    string_enc += str(char_count)    # completed the encoded string by appending the remaining char count\n",
    "    string_enc = ''.join(string_enc)  # concat the characters and char count as one string\n",
    "    if len(string_enc)>=len(raw_str):  # if len of encoded string is more or equal to the original string \n",
    "        string_enc = raw_str   # returns the original string if the len fails.\n",
    "    return (string_enc) \n",
    "    \n",
    "input1 = 'aabcccccaaa'    \n",
    "Run_length_encoder(input1)    \n",
    "print (input1 , 'encoded as ',Run_length_encoder(input1))\n",
    "\n",
    "input2 = 'AbcccDDDDDDccaaaaaaaxfffffgg'       \n",
    "print (input2 , 'encoded as ',Run_length_encoder(input2))\n",
    "\n",
    "input3 = 'Aaabbbcddddddefgh'     \n",
    "print (input3 , 'encoded as ',Run_length_encoder(input3))\n",
    "\n",
    "\n",
    "###\n",
    "# The routine is case insensitive by changing the input4 to input4.lower()  -- lower() changes the string to lowercase. \n",
    "###\n",
    "print ('\\n The routine is case insensitive by changing the input4 to input4.lower() \\n')    \n",
    "print (input3 , 'encoded as ',Run_length_encoder(input3.lower()))"
   ]
  },
  {
   "cell_type": "markdown",
   "metadata": {},
   "source": [
    "### *BONUS* Challenge: FizzBuzz\n",
    "Write a program that prints all of the numbers from 1 to 100. For multiples of 3, instead of the number, print \"Fizz;\" for multiples of 5, print \"Buzz.\" For numbers that are multiples of both 3 and 5, print \"FizzBuzz.\" Afterward, write a brief explanation walking through your code's logic in markdown."
   ]
  },
  {
   "cell_type": "code",
   "execution_count": 2,
   "metadata": {
    "scrolled": false
   },
   "outputs": [
    {
     "name": "stdout",
     "output_type": "stream",
     "text": [
      "         1 --> 1         \n",
      "         2 --> 2         \n",
      "         3 --> Fizz      \n",
      "         4 --> 4         \n",
      "         5 --> Buzz      \n",
      "         6 --> Fizz      \n",
      "         7 --> 7         \n",
      "         8 --> 8         \n",
      "         9 --> Fizz      \n",
      "        10 --> Buzz      \n",
      "        11 --> 11        \n",
      "        12 --> Fizz      \n",
      "        13 --> 13        \n",
      "        14 --> 14        \n",
      "        15 --> FizzBuzz  \n",
      "        16 --> 16        \n",
      "        17 --> 17        \n",
      "        18 --> Fizz      \n",
      "        19 --> 19        \n",
      "        20 --> Buzz      \n",
      "        21 --> Fizz      \n",
      "        22 --> 22        \n",
      "        23 --> 23        \n",
      "        24 --> Fizz      \n",
      "        25 --> Buzz      \n",
      "        26 --> 26        \n",
      "        27 --> Fizz      \n",
      "        28 --> 28        \n",
      "        29 --> 29        \n",
      "        30 --> FizzBuzz  \n",
      "        31 --> 31        \n",
      "        32 --> 32        \n",
      "        33 --> Fizz      \n",
      "        34 --> 34        \n",
      "        35 --> Buzz      \n",
      "        36 --> Fizz      \n",
      "        37 --> 37        \n",
      "        38 --> 38        \n",
      "        39 --> Fizz      \n",
      "        40 --> Buzz      \n",
      "        41 --> 41        \n",
      "        42 --> Fizz      \n",
      "        43 --> 43        \n",
      "        44 --> 44        \n",
      "        45 --> FizzBuzz  \n",
      "        46 --> 46        \n",
      "        47 --> 47        \n",
      "        48 --> Fizz      \n",
      "        49 --> 49        \n",
      "        50 --> Buzz      \n",
      "        51 --> Fizz      \n",
      "        52 --> 52        \n",
      "        53 --> 53        \n",
      "        54 --> Fizz      \n",
      "        55 --> Buzz      \n",
      "        56 --> 56        \n",
      "        57 --> Fizz      \n",
      "        58 --> 58        \n",
      "        59 --> 59        \n",
      "        60 --> FizzBuzz  \n",
      "        61 --> 61        \n",
      "        62 --> 62        \n",
      "        63 --> Fizz      \n",
      "        64 --> 64        \n",
      "        65 --> Buzz      \n",
      "        66 --> Fizz      \n",
      "        67 --> 67        \n",
      "        68 --> 68        \n",
      "        69 --> Fizz      \n",
      "        70 --> Buzz      \n",
      "        71 --> 71        \n",
      "        72 --> Fizz      \n",
      "        73 --> 73        \n",
      "        74 --> 74        \n",
      "        75 --> FizzBuzz  \n",
      "        76 --> 76        \n",
      "        77 --> 77        \n",
      "        78 --> Fizz      \n",
      "        79 --> 79        \n",
      "        80 --> Buzz      \n",
      "        81 --> Fizz      \n",
      "        82 --> 82        \n",
      "        83 --> 83        \n",
      "        84 --> Fizz      \n",
      "        85 --> Buzz      \n",
      "        86 --> 86        \n",
      "        87 --> Fizz      \n",
      "        88 --> 88        \n",
      "        89 --> 89        \n",
      "        90 --> FizzBuzz  \n",
      "        91 --> 91        \n",
      "        92 --> 92        \n",
      "        93 --> Fizz      \n",
      "        94 --> 94        \n",
      "        95 --> Buzz      \n",
      "        96 --> Fizz      \n",
      "        97 --> 97        \n",
      "        98 --> 98        \n",
      "        99 --> Fizz      \n",
      "       100 --> Buzz      \n"
     ]
    }
   ],
   "source": [
    "from math import sqrt\n",
    "replace_list=[]\n",
    "for z in range(1,101):    # start at 1 , stop at 100\n",
    "\n",
    "                modulo_of_3 = z%3   # check if it is multiple of 3 \n",
    "                modulo_of_5 = z%5   # check if it is multiple of 5\n",
    "                if modulo_of_3==0 :   # is it multiple of 3 ?\n",
    "                        var3 = \"Fizz\"   # yes , set the var3 to 'Fizz'\n",
    "                else:\n",
    "                        var3 = \"\"     # no , set the var3 to empty string\n",
    "                if modulo_of_5==0:    # is it multiple of 5?\n",
    "                        var5 = \"Buzz\"    # yes , set the var5 to 'Buzz'\n",
    "                else:\n",
    "\n",
    "                        var5 = \"\"     # no , set the var5 to empty string\n",
    "                if modulo_of_5 and modulo_of_3 :   # if it is not a multiples of 3 and 5\n",
    "                        var = str(z)               # keep the number as it is and convert to string format\n",
    "                else:\n",
    "                        var = var3 + var5          # if it is multiple of 3 and 5 , change it to 'FizzBuzz'\n",
    "\n",
    "\n",
    "                replace_list.append(var)    # add to the list\n",
    "\n",
    "for i,z  in enumerate(replace_list,1):      # index the list with number beginning from 1 for ease of reading\n",
    "\n",
    "        print ('{:10}'.format(i),'-->' ,'{:10}'.format(z)) # use print format to output the list."
   ]
  },
  {
   "cell_type": "code",
   "execution_count": null,
   "metadata": {},
   "outputs": [],
   "source": []
  }
 ],
 "metadata": {
  "anaconda-cloud": {},
  "kernelspec": {
   "display_name": "Python 3",
   "language": "python",
   "name": "python3"
  },
  "language_info": {
   "codemirror_mode": {
    "name": "ipython",
    "version": 3
   },
   "file_extension": ".py",
   "mimetype": "text/x-python",
   "name": "python",
   "nbconvert_exporter": "python",
   "pygments_lexer": "ipython3",
   "version": "3.6.4"
  }
 },
 "nbformat": 4,
 "nbformat_minor": 2
}
